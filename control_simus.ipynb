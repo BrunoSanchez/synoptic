{
 "cells": [
  {
   "cell_type": "code",
   "execution_count": 1,
   "metadata": {
    "collapsed": true
   },
   "outputs": [],
   "source": [
    "import os\n",
    "import shutil\n",
    "import matplotlib.pyplot as plt\n",
    "import numpy as np\n",
    "from astropy.io import fits\n",
    "from astropy.io import ascii\n",
    "\n",
    "from properimage import propercoadd as pc\n",
    "from properimage import propersubtract as ps\n",
    "from properimage import utils\n",
    "import stuffskywrapper as w\n",
    "\n",
    "%matplotlib inline"
   ]
  },
  {
   "cell_type": "code",
   "execution_count": 2,
   "metadata": {
    "collapsed": true
   },
   "outputs": [],
   "source": [
    "font = {'family'        : 'sans-serif',\n",
    "        'sans-serif'    : ['Computer Modern Sans serif'],\n",
    "        'weight'        : 'regular',\n",
    "        'size'          : 12}\n",
    "\n",
    "text = {'usetex'        : True}\n",
    "\n",
    "plt.rc('font', **font)\n",
    "plt.rc('text', **text)"
   ]
  },
  {
   "cell_type": "code",
   "execution_count": 3,
   "metadata": {
    "collapsed": true
   },
   "outputs": [],
   "source": [
    "test_dir = os.path.abspath('./control_simu')\n",
    "if not os.path.isdir(test_dir):\n",
    "    os.makedirs(test_dir)"
   ]
  },
  {
   "cell_type": "code",
   "execution_count": 4,
   "metadata": {
    "collapsed": true
   },
   "outputs": [],
   "source": [
    "names = ['object_code', 'x', 'y', 'app_mag', 'bulge_to_total', 'bulge_rad', 'bulge_aspect', 'bulge_PA', \n",
    "         'disk_scale_l', 'disk_aspect', 'disk_PA', 'z', 'hubble_stage']"
   ]
  },
  {
   "cell_type": "code",
   "execution_count": 5,
   "metadata": {
    "collapsed": true
   },
   "outputs": [],
   "source": [
    "cat = ascii.read('cat.list', names=names)"
   ]
  },
  {
   "cell_type": "code",
   "execution_count": 6,
   "metadata": {
    "collapsed": false
   },
   "outputs": [
    {
     "data": {
      "text/html": [
       "&lt;Table length=486&gt;\n",
       "<table id=\"table140504808369232\" class=\"table-striped table-bordered table-condensed\">\n",
       "<thead><tr><th>object_code</th><th>x</th><th>y</th><th>app_mag</th><th>bulge_to_total</th><th>bulge_rad</th><th>bulge_aspect</th><th>bulge_PA</th><th>disk_scale_l</th><th>disk_aspect</th><th>disk_PA</th><th>z</th><th>hubble_stage</th></tr></thead>\n",
       "<thead><tr><th>int64</th><th>float64</th><th>float64</th><th>float64</th><th>float64</th><th>float64</th><th>float64</th><th>float64</th><th>float64</th><th>float64</th><th>float64</th><th>float64</th><th>float64</th></tr></thead>\n",
       "<tr><td>200</td><td>63.2231</td><td>701.4906</td><td>24.0083</td><td>0.0</td><td>0.0</td><td>0.479</td><td>-111.31</td><td>0.298</td><td>0.241</td><td>-111.31</td><td>3.69235</td><td>10.0</td></tr>\n",
       "<tr><td>200</td><td>159.9567</td><td>943.2902</td><td>24.0028</td><td>0.0</td><td>0.0</td><td>0.382</td><td>-168.82</td><td>0.4</td><td>0.221</td><td>-168.82</td><td>3.65029</td><td>10.0</td></tr>\n",
       "<tr><td>200</td><td>933.0798</td><td>122.8438</td><td>24.6124</td><td>0.0</td><td>0.0</td><td>1.0</td><td>144.24</td><td>0.227</td><td>0.126</td><td>144.24</td><td>3.61485</td><td>10.0</td></tr>\n",
       "<tr><td>200</td><td>967.4059</td><td>120.6305</td><td>23.7314</td><td>0.0</td><td>0.0</td><td>0.687</td><td>-28.29</td><td>0.24</td><td>0.349</td><td>-28.29</td><td>3.51221</td><td>10.0</td></tr>\n",
       "<tr><td>200</td><td>718.0813</td><td>94.1202</td><td>24.1397</td><td>0.0</td><td>0.0</td><td>0.704</td><td>-146.05</td><td>0.457</td><td>0.259</td><td>-146.05</td><td>3.49206</td><td>10.0</td></tr>\n",
       "<tr><td>200</td><td>277.9929</td><td>95.6494</td><td>23.2435</td><td>0.0</td><td>0.0</td><td>0.926</td><td>158.59</td><td>0.239</td><td>0.748</td><td>158.59</td><td>3.36637</td><td>10.0</td></tr>\n",
       "<tr><td>200</td><td>582.9087</td><td>1021.0729</td><td>23.7117</td><td>0.0</td><td>0.0</td><td>0.862</td><td>-54.22</td><td>0.238</td><td>0.529</td><td>-54.22</td><td>3.37107</td><td>10.0</td></tr>\n",
       "<tr><td>200</td><td>754.0164</td><td>819.9237</td><td>24.5256</td><td>0.0</td><td>0.0</td><td>0.724</td><td>121.19</td><td>0.247</td><td>0.219</td><td>121.19</td><td>3.35611</td><td>10.0</td></tr>\n",
       "<tr><td>200</td><td>33.3273</td><td>848.0391</td><td>23.2283</td><td>0.0</td><td>0.0</td><td>0.599</td><td>71.0</td><td>0.401</td><td>0.509</td><td>71.0</td><td>3.34927</td><td>10.0</td></tr>\n",
       "<tr><td>200</td><td>661.4568</td><td>-4.4907</td><td>23.3928</td><td>0.0</td><td>0.0</td><td>0.723</td><td>-46.63</td><td>0.339</td><td>0.499</td><td>-46.63</td><td>3.33639</td><td>10.0</td></tr>\n",
       "<tr><td>...</td><td>...</td><td>...</td><td>...</td><td>...</td><td>...</td><td>...</td><td>...</td><td>...</td><td>...</td><td>...</td><td>...</td><td>...</td></tr>\n",
       "<tr><td>200</td><td>760.4472</td><td>336.9274</td><td>22.1652</td><td>0.0</td><td>0.0</td><td>0.991</td><td>59.95</td><td>0.436</td><td>0.979</td><td>59.95</td><td>0.14761</td><td>10.0</td></tr>\n",
       "<tr><td>200</td><td>672.3596</td><td>757.5944</td><td>20.1906</td><td>0.101</td><td>0.312</td><td>0.96</td><td>-103.12</td><td>1.296</td><td>0.491</td><td>-103.12</td><td>0.14225</td><td>6.0</td></tr>\n",
       "<tr><td>200</td><td>519.1657</td><td>428.5878</td><td>22.4595</td><td>0.0</td><td>0.0</td><td>0.999</td><td>1.58</td><td>0.302</td><td>0.996</td><td>1.58</td><td>0.13964</td><td>10.0</td></tr>\n",
       "<tr><td>200</td><td>194.6502</td><td>1003.6177</td><td>21.5953</td><td>0.247</td><td>0.286</td><td>0.798</td><td>-58.78</td><td>0.842</td><td>0.636</td><td>-58.78</td><td>0.1366</td><td>4.0</td></tr>\n",
       "<tr><td>200</td><td>872.0945</td><td>512.6868</td><td>19.407</td><td>0.076</td><td>0.359</td><td>1.0</td><td>65.83</td><td>0.653</td><td>1.0</td><td>65.83</td><td>0.12981</td><td>6.0</td></tr>\n",
       "<tr><td>200</td><td>800.8672</td><td>281.0419</td><td>19.1905</td><td>0.227</td><td>0.499</td><td>0.829</td><td>-88.69</td><td>1.503</td><td>0.819</td><td>-88.69</td><td>0.12819</td><td>4.0</td></tr>\n",
       "<tr><td>200</td><td>498.1554</td><td>351.1507</td><td>19.0979</td><td>0.254</td><td>0.538</td><td>0.849</td><td>19.06</td><td>1.085</td><td>0.592</td><td>19.06</td><td>0.1196</td><td>4.0</td></tr>\n",
       "<tr><td>200</td><td>704.5315</td><td>471.4209</td><td>23.6189</td><td>0.185</td><td>0.178</td><td>0.745</td><td>136.46</td><td>0.686</td><td>0.108</td><td>136.46</td><td>0.11608</td><td>6.0</td></tr>\n",
       "<tr><td>200</td><td>549.9029</td><td>1032.42</td><td>19.7286</td><td>0.284</td><td>0.598</td><td>0.849</td><td>62.6</td><td>0.995</td><td>0.425</td><td>62.6</td><td>0.06893</td><td>4.0</td></tr>\n",
       "<tr><td>200</td><td>961.4279</td><td>170.2958</td><td>17.7827</td><td>0.0</td><td>0.0</td><td>0.999</td><td>114.69</td><td>1.093</td><td>0.998</td><td>114.69</td><td>0.06416</td><td>10.0</td></tr>\n",
       "</table>"
      ],
      "text/plain": [
       "<Table length=486>\n",
       "object_code    x         y     app_mag ... disk_PA    z    hubble_stage\n",
       "   int64    float64   float64  float64 ... float64 float64   float64   \n",
       "----------- -------- --------- ------- ... ------- ------- ------------\n",
       "        200  63.2231  701.4906 24.0083 ... -111.31 3.69235         10.0\n",
       "        200 159.9567  943.2902 24.0028 ... -168.82 3.65029         10.0\n",
       "        200 933.0798  122.8438 24.6124 ...  144.24 3.61485         10.0\n",
       "        200 967.4059  120.6305 23.7314 ...  -28.29 3.51221         10.0\n",
       "        200 718.0813   94.1202 24.1397 ... -146.05 3.49206         10.0\n",
       "        200 277.9929   95.6494 23.2435 ...  158.59 3.36637         10.0\n",
       "        200 582.9087 1021.0729 23.7117 ...  -54.22 3.37107         10.0\n",
       "        200 754.0164  819.9237 24.5256 ...  121.19 3.35611         10.0\n",
       "        200  33.3273  848.0391 23.2283 ...    71.0 3.34927         10.0\n",
       "        200 661.4568   -4.4907 23.3928 ...  -46.63 3.33639         10.0\n",
       "        ...      ...       ...     ... ...     ...     ...          ...\n",
       "        200 760.4472  336.9274 22.1652 ...   59.95 0.14761         10.0\n",
       "        200 672.3596  757.5944 20.1906 ... -103.12 0.14225          6.0\n",
       "        200 519.1657  428.5878 22.4595 ...    1.58 0.13964         10.0\n",
       "        200 194.6502 1003.6177 21.5953 ...  -58.78  0.1366          4.0\n",
       "        200 872.0945  512.6868  19.407 ...   65.83 0.12981          6.0\n",
       "        200 800.8672  281.0419 19.1905 ...  -88.69 0.12819          4.0\n",
       "        200 498.1554  351.1507 19.0979 ...   19.06  0.1196          4.0\n",
       "        200 704.5315  471.4209 23.6189 ...  136.46 0.11608          6.0\n",
       "        200 549.9029   1032.42 19.7286 ...    62.6 0.06893          4.0\n",
       "        200 961.4279  170.2958 17.7827 ...  114.69 0.06416         10.0"
      ]
     },
     "execution_count": 6,
     "metadata": {},
     "output_type": "execute_result"
    }
   ],
   "source": [
    "cat"
   ]
  },
  {
   "cell_type": "code",
   "execution_count": 7,
   "metadata": {
    "collapsed": true
   },
   "outputs": [],
   "source": [
    "newcat = cat[-200:-50]"
   ]
  },
  {
   "cell_type": "raw",
   "metadata": {},
   "source": [
    "newcat[0:50]['object_code']=100\n",
    "newcat[0:50]['app_mag'] = 19."
   ]
  },
  {
   "cell_type": "code",
   "execution_count": 8,
   "metadata": {
    "collapsed": false
   },
   "outputs": [],
   "source": [
    "newcat_path = os.path.join(test_dir, 'newcat.list')\n",
    "\n",
    "newcat.write(newcat_path, format='ascii.fast_no_header')"
   ]
  },
  {
   "cell_type": "code",
   "execution_count": 13,
   "metadata": {
    "collapsed": false
   },
   "outputs": [],
   "source": [
    "skyconf = {'image_name' : 'test.fits',\n",
    "           'image_size' : 1024,\n",
    "           'exp_time'   : 300,\n",
    "           'mag_zp'     : 25.0,\n",
    "           'px_scale'   : 0.3,\n",
    "           'seeing_fwhm': 0.9, \n",
    "           'starcount_zp': 1e6,\n",
    "           'starcount_slope': 0.1\n",
    "           }\n",
    "\n",
    "w.write_skyconf('conf.sky', skyconf)\n",
    "img = w.run_sky('conf.sky', newcat_path, img_path=os.path.join(test_dir,'test_image.fits'))"
   ]
  },
  {
   "cell_type": "code",
   "execution_count": 14,
   "metadata": {
    "collapsed": false
   },
   "outputs": [
    {
     "data": {
      "text/plain": [
       "<matplotlib.collections.PathCollection at 0x7fc9d29dac50>"
      ]
     },
     "execution_count": 14,
     "metadata": {},
     "output_type": "execute_result"
    },
    {
     "data": {
      "image/png": "[encoded data removed]",
      "text/plain": [
       "<matplotlib.figure.Figure at 0x7fc9d3263710>"
      ]
     },
     "metadata": {},
     "output_type": "display_data"
    }
   ],
   "source": [
    "plt.scatter(cat['z'], cat['app_mag'])"
   ]
  },
  {
   "cell_type": "code",
   "execution_count": null,
   "metadata": {
    "collapsed": true
   },
   "outputs": [],
   "source": []
  },
  {
   "cell_type": "code",
   "execution_count": null,
   "metadata": {
    "collapsed": true
   },
   "outputs": [],
   "source": []
  }
 ],
 "metadata": {
  "kernelspec": {
   "display_name": "Python 2",
   "language": "python",
   "name": "python2"
  },
  "language_info": {
   "codemirror_mode": {
    "name": "ipython",
    "version": 2
   },
   "file_extension": ".py",
   "mimetype": "text/x-python",
   "name": "python",
   "nbconvert_exporter": "python",
   "pygments_lexer": "ipython2",
   "version": "2.7.12"
  }
 },
 "nbformat": 4,
 "nbformat_minor": 1
}
